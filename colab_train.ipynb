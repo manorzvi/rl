{
 "cells": [
  {
   "cell_type": "code",
   "execution_count": null,
   "metadata": {},
   "outputs": [],
   "source": [
    "import os"
   ]
  },
  {
   "cell_type": "code",
   "execution_count": null,
   "metadata": {},
   "outputs": [],
   "source": [
    "!git clone https://github.com/manorzvi/rl.git"
   ]
  },
  {
   "cell_type": "code",
   "execution_count": null,
   "metadata": {},
   "outputs": [],
   "source": [
    "from google.colab import drive\n",
    "drive.mount('/content/drive')"
   ]
  },
  {
   "cell_type": "code",
   "execution_count": null,
   "metadata": {},
   "outputs": [],
   "source": [
    "load = False"
   ]
  },
  {
   "cell_type": "code",
   "execution_count": null,
   "metadata": {},
   "outputs": [],
   "source": [
    "path = f'/content/drive/My Drive/DRL/DDDQN'\n",
    "models_path   = os.path.join(path,'models')\n",
    "logs_path     = os.path.join(path,'logs')\n",
    "if load:\n",
    "    load_path = os.path.join(models_path, 'BreakoutDeterministic-v4', 'episode-3400__07-31-20_16:04:56.pt')"
   ]
  },
  {
   "cell_type": "code",
   "execution_count": null,
   "metadata": {},
   "outputs": [],
   "source": [
    "print(models_path)\n",
    "assert os.path.exists(models_path)\n",
    "print(logs_path)\n",
    "assert os.path.exists(logs_path)\n",
    "if load:\n",
    "    print(load_path)\n",
    "    assert os.path.exists(load_path)"
   ]
  },
  {
   "cell_type": "code",
   "execution_count": null,
   "metadata": {},
   "outputs": [],
   "source": [
    "%%javascript\n",
    "function ClickConnect(){\n",
    "console.log(\"Working\");\n",
    "document.querySelector(\"colab-toolbar-button#connect\").click()\n",
    "}setInterval(ClickConnect,60000)"
   ]
  },
  {
   "cell_type": "code",
   "execution_count": null,
   "metadata": {},
   "outputs": [],
   "source": [
    "%load_ext tensorboard\n",
    "%tensorboard --logdir logs_path"
   ]
  },
  {
   "cell_type": "code",
   "execution_count": null,
   "metadata": {},
   "outputs": [],
   "source": [
    "if load:\n",
    "    !python \"rl/DDDQN.py\" -train -exp_rep_cap=100000 -exp_rep_pre=100000 -save_mdl_int=100 -bs=64 -epi_num=5000 -models='$models_path' -logs='$logs_path' -env_id='BreakoutDeterministic-v4' -load -path='$load_path'\n",
    "else:\n",
    "    !python \"rl/DDDQN.py\" -train -exp_rep_cap=100000 -exp_rep_pre=100000 -save_mdl_int=100 -bs=64 -epi_num=5000 -models='$models_path' -logs='$logs_path' -env_id='BreakoutDeterministic-v4'"
   ]
  }
 ],
 "metadata": {
  "kernelspec": {
   "display_name": "Python [conda env:rl_env] *",
   "language": "python",
   "name": "conda-env-rl_env-py"
  },
  "language_info": {
   "codemirror_mode": {
    "name": "ipython",
    "version": 3
   },
   "file_extension": ".py",
   "mimetype": "text/x-python",
   "name": "python",
   "nbconvert_exporter": "python",
   "pygments_lexer": "ipython3",
   "version": "3.6.10"
  }
 },
 "nbformat": 4,
 "nbformat_minor": 4
}
